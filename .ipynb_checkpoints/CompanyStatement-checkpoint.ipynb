{
 "cells": [
  {
   "cell_type": "markdown",
   "metadata": {},
   "source": [
    "## Gross and Operating profit\n",
    "\n",
    "[Gross profit](https://www.investopedia.com/terms/g/grossprofit.asp) = Revenue - Cost of Goods Sold\n",
    "\n"
   ]
  },
  {
   "cell_type": "markdown",
   "metadata": {},
   "source": [
    "Operating profit is a profit from business operations **(gross profit - operating expenses)** before deduction of interest and taxes"
   ]
  },
  {
   "cell_type": "markdown",
   "metadata": {},
   "source": [
    "## Market Capitalisation"
   ]
  },
  {
   "cell_type": "markdown",
   "metadata": {},
   "source": [
    "It simply means how much is the market valuing the equity part of the owner's company\n",
    "- If the trading price of the share is dollar 2 and there are 10M shares then the market cap is 20M \n",
    "- If Assets of the company is 5M and Liability is 3.5M, then equity is 1.5M\n",
    "- Hence, the book equity is different than than market cap, it means market is giving higher value to shares"
   ]
  },
  {
   "cell_type": "markdown",
   "metadata": {},
   "source": [
    "The market is giving extra valuation to the equity, what does it mean\n",
    "- We know **Asset = Liability + Equity**\n",
    "- so Asset in this case would be 3.5M + 2M (Market cap or market valuation of equity)\n",
    "- Asset is 5.5M but the book value of Asset is 5M \n",
    "- Hence, we say 0.5M is the intangible Asset of the company\n",
    "- [Intagible assets](https://www.investopedia.com/terms/i/intangibleasset.asp) can be Goodwill, brand recognition and intellectual property etc."
   ]
  },
  {
   "cell_type": "markdown",
   "metadata": {},
   "source": [
    "__Income statement and Balance sheet__\n",
    "![title](Resources/BalanceSheet.PNG)"
   ]
  },
  {
   "cell_type": "raw",
   "metadata": {},
   "source": [
    "from IPython.display import Image\n",
    "Image(\"BalanceSheet.PNG\")"
   ]
  }
 ],
 "metadata": {
  "kernelspec": {
   "display_name": "Python 3",
   "language": "python",
   "name": "python3"
  },
  "language_info": {
   "codemirror_mode": {
    "name": "ipython",
    "version": 3
   },
   "file_extension": ".py",
   "mimetype": "text/x-python",
   "name": "python",
   "nbconvert_exporter": "python",
   "pygments_lexer": "ipython3",
   "version": "3.7.2"
  }
 },
 "nbformat": 4,
 "nbformat_minor": 2
}
