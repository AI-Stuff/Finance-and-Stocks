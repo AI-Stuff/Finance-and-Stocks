{
 "cells": [
  {
   "cell_type": "markdown",
   "metadata": {},
   "source": [
    "## Acquisitions\n",
    "- Lets say company A wants to buy company B at 60M \\\\$ using its shares.\n",
    "- Current trading price for A'share is 30\\\\$\n",
    "- So A can issue 2M shares, sell them into the market with a secondary offering and hopefully generate 60M cash to buy company B\n",
    "- But this a share offering, so the transactiion will be in shares and not cash.\n",
    "- Lets say company B has 1M shares trading at 50\\\\$ per share. So its market cap is 50M\\\\$\n",
    "- So company A will give its 2M shares to all of the shareholders of company B in return of all of the existing shares of company B.\n",
    "- It will be done by giving 2 shares of company A in return of 1 share of company B.\n",
    "- So basically every shareholder of company B will get 60\\\\$ worth of A's share in return of 50\\\\$ worth of B's share. It is a 20% return and hence they will agree readily.\n",
    "\n",
    "#### Price Behaviour after acquisition announcement\n",
    "- Lets study the price behaviour once the announcement or press release is made regarding the acquisition\n",
    "- If the company A's shares closing price was 35\\\\$. Every shareholder of B will get \\\\$70 in the transaction\n",
    "- If A's share price goes to \\\\$25. every shareholder of B will get \\\\$50\n",
    "- Lets say A's share price is \\\\$30 after announcement is made. So this should affect the trading price of B's share as well. B's share price should jump to \\\\$60 (i.e double of A's price) immediately.\n",
    "- If this jump doesn't happen i.e B is not trading at double the price of A, then people will rush in to buy B's share as 1 share of B will soon be worth 2 shares of A.\n",
    "- So ideally once the announcement is made B's trading price should rise and get doubled of A's trading price. \n",
    "\n",
    "## Merger Arbitrage with share acquisition\n",
    "- Lets say due to some reasons people think that the above transcation is not going to happen and hence, they are not paying double the price of A for a share of B.\n",
    "- If someone is 100% sure that the deal is going to close or the transaction is for sure going to happen, he can take advantage of this situation by [arbitraging](https://en.wikipedia.org/wiki/Arbitrage)\n",
    "- Why arbitrage in the first place when one can buy the shares of B which are currently trading at less than twice of A, and later when the transaction happens can sell them for 2 shares of A, and gain profit.\n",
    "- Logic behind it is , what if the whole market goes down or the share price of A goes down before the transaction occurs. This will eventually make B's price close to double of A or even worse when both B and A goes down and B becomes double of A.\n",
    "- For example, let A's price come down to \\\\$25 from \\\\$30 and B is still \\\\$50. In this case we lose the \\\\$10 profit we were supposed to get when the transaction would occur.\n",
    "- The best way to take advantage is to do a pair trade, \n",
    "    - _Buy 1 share of B_\n",
    "    - _Short 2 shares of A_\n",
    "- Assuming that B is trading at \\\\$50 and A is trading at \\\\$30. By shorting 2 shares of A we get \\\\$60 and by buying 1 share of B we spend \\\\$50. Hence the profit is of \\\\$10. But we still owe 2 shares of A, which will get covered when the transaction is closed and we get 2 shares of A which we would return to cover our short position.\n",
    "- By doing this we immediately took advantage of the price difference as B was not trading at double of A. Now even if __B's price rises and tracks double of A__ or __B's price lowers down further__ or __A's price lowers down__ makes no impact as we have already made our profit and are waiting for the transaction to close so that we can cover our short position by returning the 2 shares of A that we owe.\n",
    "- Had we not done this pair trading we would have to wait for the transaction to close so that we get our profit. Assuming that B would not track double of A till that point."
   ]
  }
 ],
 "metadata": {
  "kernelspec": {
   "display_name": "Python 3",
   "language": "python",
   "name": "python3"
  },
  "language_info": {
   "codemirror_mode": {
    "name": "ipython",
    "version": 3
   },
   "file_extension": ".py",
   "mimetype": "text/x-python",
   "name": "python",
   "nbconvert_exporter": "python",
   "pygments_lexer": "ipython3",
   "version": "3.7.2"
  }
 },
 "nbformat": 4,
 "nbformat_minor": 2
}
