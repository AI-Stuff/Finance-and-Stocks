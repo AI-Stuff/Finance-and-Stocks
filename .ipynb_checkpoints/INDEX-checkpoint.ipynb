{
 "cells": [
  {
   "cell_type": "markdown",
   "metadata": {},
   "source": [
    "[![](https://i.imgur.com/fVJSx5K.jpg)](https://i.imgur.com/fVJSx5K.jpg)\n",
    "\n",
    "__Contents__\n",
    "\n",
    "1. [Stocks and Bonds](stocks.ipynb)\n",
    "2. [Company Statement](CompanyStatement.ipynb)\n",
    "3. [Fundamental Definations](CorporateMetrics.ipynb)\n",
    "4. [Life of a company -- from birth to death](CompanyLifeCycle.ipynb)\n"
   ]
  }
 ],
 "metadata": {
  "kernelspec": {
   "display_name": "Python 3",
   "language": "python",
   "name": "python3"
  },
  "language_info": {
   "codemirror_mode": {
    "name": "ipython",
    "version": 3
   },
   "file_extension": ".py",
   "mimetype": "text/x-python",
   "name": "python",
   "nbconvert_exporter": "python",
   "pygments_lexer": "ipython3",
   "version": "3.7.2"
  }
 },
 "nbformat": 4,
 "nbformat_minor": 2
}
