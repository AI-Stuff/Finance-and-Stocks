{
 "cells": [
  {
   "cell_type": "markdown",
   "metadata": {},
   "source": [
    "[![](https://user-images.githubusercontent.com/12659315/52085754-4653da00-25cb-11e9-924b-3ac0a87337d8.jpg)](https://user-images.githubusercontent.com/12659315/52085754-4653da00-25cb-11e9-924b-3ac0a87337d8.jpg)\n",
    "\n",
    "__Contents__\n",
    "\n",
    "1. [Stocks and Bonds](stocks.ipynb)\n",
    "2. [Company Statement](CompanyStatement.ipynb)\n",
    "3. [Fundamental Definations](CorporateMetrics.ipynb)\n",
    "4. [Life of a company -- from birth to death](CompanyLifeCycle.ipynb)\n"
   ]
  }
 ],
 "metadata": {
  "kernelspec": {
   "display_name": "Python 3",
   "language": "python",
   "name": "python3"
  },
  "language_info": {
   "codemirror_mode": {
    "name": "ipython",
    "version": 3
   },
   "file_extension": ".py",
   "mimetype": "text/x-python",
   "name": "python",
   "nbconvert_exporter": "python",
   "pygments_lexer": "ipython3",
   "version": "3.7.2"
  }
 },
 "nbformat": 4,
 "nbformat_minor": 2
}
