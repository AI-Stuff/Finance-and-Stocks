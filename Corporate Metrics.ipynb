{
 "cells": [
  {
   "cell_type": "markdown",
   "metadata": {},
   "source": [
    "## Price and Market Capitalisation\n",
    "**Equity** : The total stake of the people who own the company or in other words what the owners of the company own\n",
    "\n",
    "Two companies A and B with 1M worth of _asset_ each and no _liabilities_ have essentially all their _assets_ as _equity_ as we know **Asset = Liability + Equity**\n",
    "\n",
    "**Market Capitalisation** is what the market is valueing the equity and book price is what the accountants within the company is valueing the equity\n",
    "\n",
    "- A issues 1000 shares so the price of each share will be 1K, B issues 1M shares so the price of their share will be dollar 1\n",
    "- Supposing that there is a decline in share price of A to dollar 500, Then the **market cap** is 0.5M \n",
    "- One can say A's share is costly and B's is cheaper (500 to 1) but buying A's share may be better deal as we are paying 500 to own 1 thousandth of the company A compared to paying dollar 1 to own 1millionth if company B, provided that both have essentially the same book value of asset\n",
    "- __So we cannot take a decision simply by comparing the price of the share__\n",
    "- Price only matters if it is too low([Bid-Ask Spread](https://www.investopedia.com/terms/b/bid-askspread.asp)) as there is greater % change when the trading price of the share changes or when it is too high as it can be difficult for someone to even buy one share of the company\n"
   ]
  },
  {
   "cell_type": "markdown",
   "metadata": {},
   "source": [
    "## Income Statement"
   ]
  },
  {
   "cell_type": "markdown",
   "metadata": {},
   "source": [
    "![title](.\IncomeStatement.PNG)"
   ]
  },
  {
   "cell_type": "markdown",
   "metadata": {},
   "source": [
    "- Return on Asset __(ROA) is OP/ASSET__ i.e 1M/10M or 10%\n",
    "- Return on Equity __(ROE) is Net Income/Equity__ i.e 0.35M/5M or 7%\n"
   ]
  },
  {
   "cell_type": "markdown",
   "metadata": {},
   "source": [
    "Net income is also called earnings of the company\n",
    "\n",
    "- Lets say the company issued 1M shares \n",
    "- So Earning per Share __(EPS is Net Income/Shares)__ is 350,000/1,000,000 i.e __0.35/share__\n",
    "- since equity is 5M and number of shares issued is 1M, So, book value of share is 5dollar/share\n",
    "- Since the net income is 350000 in the current year, so this means the asser increased in value by 350000\n",
    "- As the debt is fixed , so the increase in asset is the increase in equity. Hence, equity now becomes 5.35M"
   ]
  },
  {
   "cell_type": "markdown",
   "metadata": {},
   "source": [
    "## P/E ratio\n"
   ]
  },
  {
   "cell_type": "markdown",
   "metadata": {},
   "source": [
    "- We see the EPS is 0.35\n",
    "- If the trading value of the share is say 3.5 dollar , with 1M share , market cap will be 3.5M\n",
    "- So, __P/E is Price of share/EPS__ i.e 3.5/0.35 or 10\n",
    "- E/P is 1/10 or 10%, we can think of E/P as the interest we get on the price as ideally the earnings are added to the asset and its value increases\n",
    "- Lets say we invested 100 dollar in the bank and received the interst of dollar 2 in a year, we can say P/E is 100/2 or 50 amd E/P is 2%\n",
    "- Thus in general we would want a lower P/E ratio or higher E/P ratio"
   ]
  },
  {
   "cell_type": "code",
   "execution_count": null,
   "metadata": {},
   "outputs": [],
   "source": []
  }
 ],
 "metadata": {
  "kernelspec": {
   "display_name": "Python 3",
   "language": "python",
   "name": "python3"
  },
  "language_info": {
   "codemirror_mode": {
    "name": "ipython",
    "version": 3
   },
   "file_extension": ".py",
   "mimetype": "text/x-python",
   "name": "python",
   "nbconvert_exporter": "python",
   "pygments_lexer": "ipython3",
   "version": "3.7.0"
  }
 },
 "nbformat": 4,
 "nbformat_minor": 2
}
