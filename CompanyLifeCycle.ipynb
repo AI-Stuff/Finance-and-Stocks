{
 "cells": [
  {
   "cell_type": "markdown",
   "metadata": {},
   "source": [
    "## Life Cycle of a Company"
   ]
  },
  {
   "attachments": {},
   "cell_type": "markdown",
   "metadata": {},
   "source": [
    "### Raising money for a startup\n",
    "- 5 friends have an idea and decide to form a company\n",
    "- Initially they form the company and issue 1M shares\n",
    "- If we make the balance sheet , assets will be the Idea, unique strenght that each guy brings on the table. They dont get a loan to start their business as banks denied giving loan to them so they dont have any liability\n",
    "- Since they have 1M shares issued so each of them gets 200K shares or in other word 20% of the shares\n",
    "- To set up the business they need money. They approach [angel investors](https://www.investopedia.com/terms/a/angelinvestor.asp) and one of them agrees to fund them.\n",
    "- Here they agree on a pre money evalution of 5M, which means that both the angel investors and the 5 friends agree to value their assets(which is primarily only their Idea at this point of time) at 5M\n",
    "- The angel investor agrees to give them 5M dollars. This means he will supply 5M cash and the asset value will become 10M and he takes 50% of the shares\n",
    "- __pre money valuation + funding = post money valuation__\n",
    "- 50% shares is given to the investors by issuing 1M new shares.so there is a total of 2M shares now. This means each of the friend's share got diluted to 10% which was earlier 20%\n",
    "- We can see it this way, earlier they owned 20% of 5M which is 1M now they own 10% of 10M which is also 1M. Hence their value is essentially the same\n",
    "\n",
    "![Funding](startupFunding.JPG)"
   ]
  }
 ],
 "metadata": {
  "kernelspec": {
   "display_name": "Python 3",
   "language": "python",
   "name": "python3"
  },
  "language_info": {
   "codemirror_mode": {
    "name": "ipython",
    "version": 3
   },
   "file_extension": ".py",
   "mimetype": "text/x-python",
   "name": "python",
   "nbconvert_exporter": "python",
   "pygments_lexer": "ipython3",
   "version": "3.7.2"
  }
 },
 "nbformat": 4,
 "nbformat_minor": 2
}
