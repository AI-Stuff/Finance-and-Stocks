{
 "cells": [
  {
   "cell_type": "markdown",
   "metadata": {},
   "source": [
    "## Life Cycle of a Company"
   ]
  },
  {
   "cell_type": "markdown",
   "metadata": {},
   "source": [
    "### Raising money for a startup\n",
    "- 5 friends have an idea and decide to form a company\n",
    "- Initially they form the company and issue 1M shares\n",
    "- If we make the balance sheet , assets will be the Idea, unique strenght that each guy brings on the table. They dont get a loan to start their business as banks denied giving loan to them so they dont have any liability\n",
    "- Since they have 1M shares issued so each of them gets 200K shares or in other word 20% of the shares\n",
    "- To set up the business they need money. They approach [angel investors](https://www.investopedia.com/terms/a/angelinvestor.asp) and one of them agrees to fund them.\n",
    "- Here they agree on a pre money evalution of 5M, which means that both the angel investors and the 5 friends agree to value their assets(which is primarily only their Idea at this point of time) at 5M\n",
    "- The angel investor agrees to give them 5M dollars. This means he will supply 5M cash and the asset value will become 10M and he takes 50% of the shares\n",
    "- __pre money valuation + funding = post money valuation__\n",
    "- 50% shares is given to the investors by issuing 1M new shares.so there is a total of 2M shares now. This means each of the friend's share got diluted to 10% which was earlier 20%\n",
    "- We can see it this way, earlier they owned 20% of 5M which is 1M now they own 10% of 10M which is also 1M. Hence their value is essentially the same\n",
    "\n",
    "![Funding](startupFunding.JPG)"
   ]
  },
  {
   "cell_type": "markdown",
   "metadata": {},
   "source": [
    "- Suppose that the angel investor had pre valued the company at 1M (which is 1 dollar/share )and then provided the fund of 5M. Then the company would have to issue 5M new shares to the investor giving him around 84% share in the company"
   ]
  },
  {
   "cell_type": "markdown",
   "metadata": {},
   "source": [
    "### Funding Series\n",
    "- After the company has exhausted the 5M in buying office space hiring employees to build website, it needs more money to market itself. Here we approach the seed investor\n",
    "- [Seed investors](https://en.wikipedia.org/wiki/Seed_money) are professionals managing other other people's money and generally give a large funding than angel investors.\n",
    "- This funding will be called __series A__ funding as this is the first professional round of funding company is going for.\n",
    "- When the seed investors agrees to fund, both parties agree on a pre money valuation. In this case lets assume the pre money valuation agreed upon is 15M.\n",
    "- We see that the present premoney valuation is greater than the last post money valuation. This is called an up-round and the company has created wealth.\n",
    "- This pre money valuation of 15M takes the share price to be \\\\$7.50 as there are 2M shares outstanding. Considering the last postmoney share price of \\\\$ 5, this is a 50% return straight away for the angel investor.\n",
    "- Lets say the amount demanded was 7.5M, so with the premoney share price valuation of \\\\$7.5, comapany needs to issue 1M new shares for the seed investor. Thus the postmoney valuation after this round is 22.5M\n",
    "- This results in 33.33% stake of the company going to each of the seed investor, angel investor and the founders collectively.\n",
    "-  Sometimes a very high post money valuation is bad as it becomes difficult to find someone willing to pay more in the next round which might force the company to go for a down-round in the next round of funding\n",
    "\n",
    "Lets say after 6 months the company has burnt its cash but has shown more revenue and less loss, the company needs one more round of funding to become profitable. So it goes for __series B__ of funding\n",
    "- Premoney valuation of 30M. Again this is a up-round. Share price would be \\$10\n",
    "- Company need 10M, so it needs to issue 1M new shares for the investors\n",
    "- Postmoney valuation of 40M.Total number of shares at this poin is 4M. This means a 100% return for angel investor, 33.33% return for seed investor."
   ]
  },
  {
   "cell_type": "markdown",
   "metadata": {},
   "source": [
    "### IPO (Initial Public Offering)\n",
    "[Go through this first](https://www.cnbc.com/id/47099278)\n",
    "\n",
    "- The founders have realised that there is a lot of competition and similar companies have sprung up. In order to become profitable and rule out other players they need a large chunk of money around 50M\n",
    "- So they decide to go public. It has two benefits\n",
    "    - The company gets large amount of cash for their use\n",
    "    - Once the company is public the stake holders can sell their shares and make profit. Even if the investors hold the shares which is priced higher than the price at which they bought them, they cant sell those share at this higher price until the company is public. So after IPO all of a sudden all of the stake holders will have liquidity.\n",
    "- So the company hires investment banks/commercial banks to start the process. A [leadunderwritter](https://investinganswers.com/financial-dictionary/stock-market/lead-underwriter-5820) along with a syndicate of banks does all the legal work and gives a valuation to the company(essentially the premoney valuation).\n",
    "- Lets say the board needs to raise 200M, and the banks value the company at 80M. So share price will be \\$20 and 10M new shares need to be issued.\n",
    "- After all this is done the banks would give the cash to the company and take the share after deducting their cut which is around 7%. So in reality the company would only see around 184M and not 200M\n",
    "- The banks would want to value the company a little less than they assume the price should be because in doing so they ensure that after IPO the share price goes higher. This in turn safeguards the interest of the clients of the companies like hedge funds, mutual funds or high net worth individuals to whom the IPO is allocated.\n",
    "- General public often cannot invest in an IPO. They buy stocks when they are listed in the stock exchange.\n",
    "- This is what is called a secondary market where people buy shares from other people and not from the company. So the money they pay doesnot go to the company , it goes to other people.\n",
    "- But why do even people buy shares of any company? The reason is :\n",
    "    - Firstly, they hope that someday the price of the share will increase and they will sell those shares to someone else and make profit\n",
    "    - Secondly, they think that someday the company would become highly profitable and it would give out dividends to all of its share holders"
   ]
  },
  {
   "cell_type": "markdown",
   "metadata": {},
   "source": [
    "__Equity vs Debt__\n",
    "- There is generally two ways to raise money for the company\n",
    "    - By selling shares or equity of the company. For the buyer,\n",
    "        - Its downside is that if the company gets bankrupt the shareholders get nothing \n",
    "        - Its upside is that if the companies gets lot of upside their stocks value also increases\n",
    "    - By borrowing money i.e through debt. For the buyer,\n",
    "        - Its upside is that even if the company goes bankrupt, it needs to pay the debt\n",
    "        - Its downside is that even if the company is making a lot of profit and its share price has increased manifold but the interest the bond holder gets is fixed"
   ]
  },
  {
   "cell_type": "markdown",
   "metadata": {},
   "source": [
    "### Bankruptcy\n",
    "The state of being bankrupt. For a company there can be two types of bankruptcy. \n",
    "1. Liquidation bankruptcy\n",
    "2. Restructuring bankruptcy\n",
    "\n",
    "__Liquidation Bankruptcy__ occurs when the company goes out of business and will never make any money. For example, for a comany which make shoes and suddenly shoes go out of fashion and no one is buying shoes anymore and it makes no sense for the company to keep running as they are never going to make any money. So they might as well sell all their assets to make some money\n",
    "- Now suppose that the initial _Asset_ value was 10M , _Debt_ was 6M and _Equity_ was 4M\n",
    "- When the _Assets_ are sold they are not worth 10M any more, they are worth 5M.\n",
    "- Money is first distributed to the debt holders and then if anything is left over would be distributed to the equity holders\n",
    "- As there is only 5M to be distributed but the debt is of 6M, so for sure the equity holders get no money.\n",
    "- Even not all the debt holders get their money back as money is distributed on the basis of [__seniority__](https://en.wikipedia.org/wiki/Seniority_(financial))\n",
    "- Suppose there was 2M [senior secured debt](https://www.investopedia.com/articles/investing/121815/understand-security-types-corporate-bonds.asp), 2M senior unsecured debt, and 2M subordinate debt. Then all the senior secured debt holders and senior unsecured debt holders get back their money and the rest 1M is distributed to subordinate debt holders.So they get 50% of their money back.\n",
    "\n",
    "__Restructuring Bankruptcy__ occurs when the company is generating money and the value of the assets is more if the company is kept running. So there is a need to restructure the liabilities and equity"
   ]
  }
 ],
 "metadata": {
  "kernelspec": {
   "display_name": "Python 3",
   "language": "python",
   "name": "python3"
  },
  "language_info": {
   "codemirror_mode": {
    "name": "ipython",
    "version": 3
   },
   "file_extension": ".py",
   "mimetype": "text/x-python",
   "name": "python",
   "nbconvert_exporter": "python",
   "pygments_lexer": "ipython3",
   "version": "3.7.2"
  }
 },
 "nbformat": 4,
 "nbformat_minor": 2
}
