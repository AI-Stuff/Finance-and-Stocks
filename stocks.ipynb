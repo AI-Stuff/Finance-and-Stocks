{
 "cells": [
  {
   "cell_type": "markdown",
   "metadata": {},
   "source": [
    "## Stock vs Bond"
   ]
  },
  {
   "cell_type": "markdown",
   "metadata": {},
   "source": [
    "Stock : part owner of the company\n",
    "\n",
    "Bond : part lender to the company"
   ]
  },
  {
   "cell_type": "markdown",
   "metadata": {},
   "source": [
    "- **Assets = Liability + Equity**\n",
    "- Stock Holders are part owner of the _EQUITY_ i.e shares are the split of the owner's _equity_ \n",
    "- Bond owner lend money to the company, so it becomes company's __Liability__ to pay the debt to the bond holder"
   ]
  },
  {
   "cell_type": "markdown",
   "metadata": {},
   "source": [
    "ex: Let assets of a company be 100M, Liability be 80 M, So equity is 20M\n",
    "If company decides to issue 2M shares , then value of each share will be around $2. Liabity of 80M can be a debt from banks or debt from public(bond holders)"
   ]
  },
  {
   "cell_type": "markdown",
   "metadata": {},
   "source": [
    "- A **Security** is something that can be bought and sold and has some kind of claim on something\n",
    "- A security in equity is called _**stock**_, a seurity in debt is called _**bond**_"
   ]
  },
  {
   "cell_type": "markdown",
   "metadata": {},
   "source": [
    "## Shorting Stock"
   ]
  },
  {
   "cell_type": "markdown",
   "metadata": {},
   "source": [
    "Seling at high price first and buying at low price later\n",
    "- Buyer rents a share from brocker when the trading price is dollar 100\n",
    "- Buyer then sells the share in the market at dollar 100 on the same day\n",
    "- His asset is dollar 100 and liability is to provide the share back to brocker\n",
    "- Suppose after few days the stock price becomes dollar 50\n",
    "- Our buyer buys the share back from the maket at dollar 50\n",
    "- He returns the share to the brocker thus clearing his liability\n",
    "- Final asset is dollar 50"
   ]
  },
  {
   "cell_type": "markdown",
   "metadata": {},
   "source": [
    "**Shorting is risky because if a person takes a shorting position when the trading price is 100 then his maximum profit is 100 when the stock hits low and becomes 0, but if the stock price increases then there is no limit to his loss as the price can raise to 500 or 1K or 10M**"
   ]
  },
  {
   "cell_type": "code",
   "execution_count": null,
   "metadata": {},
   "outputs": [],
   "source": []
  }
 ],
 "metadata": {
  "kernelspec": {
   "display_name": "Python 3",
   "language": "python",
   "name": "python3"
  },
  "language_info": {
   "codemirror_mode": {
    "name": "ipython",
    "version": 3
   },
   "file_extension": ".py",
   "mimetype": "text/x-python",
   "name": "python",
   "nbconvert_exporter": "python",
   "pygments_lexer": "ipython3",
   "version": "3.7.0"
  }
 },
 "nbformat": 4,
 "nbformat_minor": 2
}
