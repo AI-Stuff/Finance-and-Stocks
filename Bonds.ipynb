{
 "cells": [
  {
   "cell_type": "markdown",
   "metadata": {},
   "source": [
    "## What is a Bond\n",
    "- Its a way by which someone can lend money to the company. A bond holder is a partial lender to the company\n",
    "- Lets say a company needs 500K and its share price is \\\\&100. So it can issue 5K shares and raise the required 500K or it can issue bonds.\n",
    "- Those who buy the bonds don't become equity holders but they become lenders to the comapny. Thus they earn interest from it\n",
    "- Inspite of the company performing good or bad, bond holders wont get the cut of the profit instead they will get paid before the equity holders get any profit.\n",
    "- Suppose a company issues bonds of _face value_ 1000\\\\$, and 10% annual _coupon_, _maturity_ of 2years\n",
    "- It means any one who buys that bond pays 1000\\\\$ for it. He gets 100\\\\$ annually for 2 years before getting back his 1000\\\\$\n",
    "- The interest is generally given semi-annually, so the bond holder will get 50\\\\$ every 6 months and on 24th month he will get this interest as well as the 1000\\\\$ back.\n"
   ]
  },
  {
   "cell_type": "markdown",
   "metadata": {},
   "source": [
    "## Corporate bond vs Traditional mortgages\n",
    "- Suppose someone takes a 1M mortage, then the bank will figure out a fixed amount payable at a regular interval say a month, this payment will not change during the term or the lifetime of the mortgage.\n",
    "- In this payment some part of it is used to pay the interest and some part is paying the principle\n",
    "- Early on during the paymnent life, most of the payment is interest and some part of it is goes to pay the principle\n",
    "- As the payment amount and interest rate is fixed, so the consequent fixed payments will pay off more principle and less interest as more and more debt is being paid.\n",
    "- Gradually with the last payment, very little of it will be the interest and most of it will be principle. After this payment loan would be paid off.\n",
    "\n",
    "![debt](Resources/debt.JPG)\n",
    "\n",
    "- But corporate debt is interest only debt, this means every fixed payment is interest only\n",
    "- At the end of the term of the loan the fixed payment will be paid as interest as usual and also the entire principle needs to be paid at once\n",
    "- Most of the companies would not have that much cash to pay the entire principle at once. So they take another loan of the same principle amount (from same or different bank at same or different interest rate) and use it to pay the old loan.\n",
    "- And the company continues to pay the interest for this new loan."
   ]
  }
 ],
 "metadata": {
  "kernelspec": {
   "display_name": "Python 3",
   "language": "python",
   "name": "python3"
  },
  "language_info": {
   "codemirror_mode": {
    "name": "ipython",
    "version": 3
   },
   "file_extension": ".py",
   "mimetype": "text/x-python",
   "name": "python",
   "nbconvert_exporter": "python",
   "pygments_lexer": "ipython3",
   "version": "3.7.2"
  }
 },
 "nbformat": 4,
 "nbformat_minor": 2
}
