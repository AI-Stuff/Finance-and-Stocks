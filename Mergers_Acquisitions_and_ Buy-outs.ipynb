{
 "cells": [
  {
   "cell_type": "markdown",
   "metadata": {},
   "source": [
    "## Acquisitions\n",
    "- Lets say company A wants to buy company B at 60M \\\\$ using its shares.\n",
    "- Current trading price for A'share is 30\\\\$\n",
    "- So A can issue 2M shares sell them into the market with a secondary offering and hopefully generate 60M cash to buy company B\n",
    "- But this a share offering,so the transactiion will be in shares and not cash.\n",
    "- Lets say company B has 1M shares trading at 50\\\\$ per share. So its market cap is 50M\\\\$\n",
    "- So company A will give its 2M shares to all of the shareholders of company B in return of all of the existing shares of company B.\n",
    "- It will be done by giving 2 shares of company A in return of 1 share of company B.\n",
    "- So basically every shareholder of company B will get 60\\\\$ worth of A's share in return of 50\\\\$ worth of B's share. It is a 20% return and hence they will agree readily."
   ]
  }
 ],
 "metadata": {
  "kernelspec": {
   "display_name": "Python 3",
   "language": "python",
   "name": "python3"
  },
  "language_info": {
   "codemirror_mode": {
    "name": "ipython",
    "version": 3
   },
   "file_extension": ".py",
   "mimetype": "text/x-python",
   "name": "python",
   "nbconvert_exporter": "python",
   "pygments_lexer": "ipython3",
   "version": "3.7.2"
  }
 },
 "nbformat": 4,
 "nbformat_minor": 2
}
